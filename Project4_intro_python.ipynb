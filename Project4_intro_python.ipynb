{
  "nbformat": 4,
  "nbformat_minor": 0,
  "metadata": {
    "colab": {
      "provenance": [],
      "authorship_tag": "ABX9TyNK1lnZ+X5uzffOpL12b3OF",
      "include_colab_link": true
    },
    "kernelspec": {
      "name": "python3",
      "display_name": "Python 3"
    },
    "language_info": {
      "name": "python"
    }
  },
  "cells": [
    {
      "cell_type": "markdown",
      "metadata": {
        "id": "view-in-github",
        "colab_type": "text"
      },
      "source": [
        "<a href=\"https://colab.research.google.com/github/mnadeemsodha/Project-4-assignments/blob/main/Project4_intro_python.ipynb\" target=\"_parent\"><img src=\"https://colab.research.google.com/assets/colab-badge.svg\" alt=\"Open In Colab\"/></a>"
      ]
    },
    {
      "cell_type": "code",
      "execution_count": null,
      "metadata": {
        "id": "UMe3W4yh3KiH"
      },
      "outputs": [],
      "source": []
    },
    {
      "cell_type": "code",
      "source": [
        "def main():\n",
        "    # Prompt for the first number and convert to integer\n",
        "    first_num = int(input(\"Enter the first number: \"))\n",
        "    # Prompt for the second number and convert to integer\n",
        "    second_num = int(input(\"Enter the second number: \"))\n",
        "    # Calculate and display the sum\n",
        "    total = first_num + second_num\n",
        "    print(f\"The sum of {first_num} and {second_num} is {total}.\")\n",
        "\n",
        "# When run as a script, call main()\n",
        "if __name__ == \"__main__\":\n",
        "    main()\n"
      ],
      "metadata": {
        "colab": {
          "base_uri": "https://localhost:8080/"
        },
        "id": "KHj4gS0y32tS",
        "outputId": "fea0c9b3-6c93-4626-8b4e-a126b8cf629c"
      },
      "execution_count": 1,
      "outputs": [
        {
          "output_type": "stream",
          "name": "stdout",
          "text": [
            "Enter the first number: 10\n",
            "Enter the second number: 10\n",
            "The sum of 10 and 10 is 20.\n"
          ]
        }
      ]
    }
  ]
}