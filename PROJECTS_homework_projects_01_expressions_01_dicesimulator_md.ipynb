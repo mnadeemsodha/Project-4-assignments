{
  "nbformat": 4,
  "nbformat_minor": 0,
  "metadata": {
    "colab": {
      "provenance": [],
      "authorship_tag": "ABX9TyPE4qZ2XjPG7OdH0hVvyQUM",
      "include_colab_link": true
    },
    "kernelspec": {
      "name": "python3",
      "display_name": "Python 3"
    },
    "language_info": {
      "name": "python"
    }
  },
  "cells": [
    {
      "cell_type": "markdown",
      "metadata": {
        "id": "view-in-github",
        "colab_type": "text"
      },
      "source": [
        "<a href=\"https://colab.research.google.com/github/mnadeemsodha/Project-4-assignments/blob/main/PROJECTS_homework_projects_01_expressions_01_dicesimulator_md.ipynb\" target=\"_parent\"><img src=\"https://colab.research.google.com/assets/colab-badge.svg\" alt=\"Open In Colab\"/></a>"
      ]
    },
    {
      "cell_type": "code",
      "execution_count": null,
      "metadata": {
        "id": "e0-j8dYy7BEA"
      },
      "outputs": [],
      "source": []
    },
    {
      "cell_type": "code",
      "source": [
        "import random\n",
        "\n",
        "def roll_two_dice():\n",
        "    die1 = random.randint(1, 6)\n",
        "    die2 = random.randint(1, 6)\n",
        "    print(f\"  Die 1: {die1}, Die 2: {die2}\")\n",
        "    return die1 + die2\n",
        "\n",
        "def main():\n",
        "    print(\"Rolling two dice, three times:\\n\")\n",
        "    for i in range(1, 4):\n",
        "        print(f\"Roll #{i}:\")\n",
        "        roll_sum = roll_two_dice()\n",
        "        print(f\"  Sum of this roll: {roll_sum}\\n\")\n"
      ],
      "metadata": {
        "id": "EtBXRmtg7DOL"
      },
      "execution_count": 1,
      "outputs": []
    },
    {
      "cell_type": "code",
      "source": [
        "main()\n"
      ],
      "metadata": {
        "colab": {
          "base_uri": "https://localhost:8080/"
        },
        "id": "9fHMdWY37TCy",
        "outputId": "941f6695-b75e-4235-bf8a-76ed546a40a3"
      },
      "execution_count": 2,
      "outputs": [
        {
          "output_type": "stream",
          "name": "stdout",
          "text": [
            "Rolling two dice, three times:\n",
            "\n",
            "Roll #1:\n",
            "  Die 1: 4, Die 2: 1\n",
            "  Sum of this roll: 5\n",
            "\n",
            "Roll #2:\n",
            "  Die 1: 4, Die 2: 1\n",
            "  Sum of this roll: 5\n",
            "\n",
            "Roll #3:\n",
            "  Die 1: 6, Die 2: 4\n",
            "  Sum of this roll: 10\n",
            "\n"
          ]
        }
      ]
    }
  ]
}