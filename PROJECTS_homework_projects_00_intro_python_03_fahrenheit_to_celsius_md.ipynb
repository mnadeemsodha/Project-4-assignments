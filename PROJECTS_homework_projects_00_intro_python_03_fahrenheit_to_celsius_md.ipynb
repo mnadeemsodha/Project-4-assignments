{
  "nbformat": 4,
  "nbformat_minor": 0,
  "metadata": {
    "colab": {
      "provenance": [],
      "authorship_tag": "ABX9TyOIAynp3oAoU8pZONGqXkyB",
      "include_colab_link": true
    },
    "kernelspec": {
      "name": "python3",
      "display_name": "Python 3"
    },
    "language_info": {
      "name": "python"
    }
  },
  "cells": [
    {
      "cell_type": "markdown",
      "metadata": {
        "id": "view-in-github",
        "colab_type": "text"
      },
      "source": [
        "<a href=\"https://colab.research.google.com/github/mnadeemsodha/Project-4-assignments/blob/main/PROJECTS_homework_projects_00_intro_python_03_fahrenheit_to_celsius_md.ipynb\" target=\"_parent\"><img src=\"https://colab.research.google.com/assets/colab-badge.svg\" alt=\"Open In Colab\"/></a>"
      ]
    },
    {
      "cell_type": "code",
      "source": [
        "def fahrenheit_to_celsius(fahrenheit):\n",
        "  \"\"\"Converts temperature from Fahrenheit to Celsius.\n",
        "\n",
        "  Args:\n",
        "    fahrenheit: The temperature in Fahrenheit.\n",
        "\n",
        "  Returns:\n",
        "    The temperature in Celsius.\n",
        "  \"\"\"\n",
        "  celsius = (fahrenheit - 32) * 5 / 9\n",
        "  return celsius\n",
        "\n",
        "# Prompt the user for input\n",
        "fahrenheit_str = input(\"Enter temperature in Fahrenheit: \")\n",
        "\n",
        "try:\n",
        "  fahrenheit = float(fahrenheit_str)\n",
        "  celsius = fahrenheit_to_celsius(fahrenheit)\n",
        "  print(f\"{fahrenheit} degrees Fahrenheit is equal to {celsius} degrees Celsius.\")\n",
        "except ValueError:\n",
        "  print(\"Invalid input. Please enter a valid number for the temperature.\")\n"
      ],
      "metadata": {
        "colab": {
          "base_uri": "https://localhost:8080/"
        },
        "id": "FYE9lJTdDB9m",
        "outputId": "07af65a3-1139-407d-cdcd-b207da30fc80"
      },
      "execution_count": 2,
      "outputs": [
        {
          "output_type": "stream",
          "name": "stdout",
          "text": [
            "Enter temperature in Fahrenheit: 80\n",
            "80.0 degrees Fahrenheit is equal to 26.666666666666668 degrees Celsius.\n"
          ]
        }
      ]
    }
  ]
}