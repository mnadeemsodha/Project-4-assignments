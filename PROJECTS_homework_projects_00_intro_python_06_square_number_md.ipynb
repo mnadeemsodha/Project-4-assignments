{
  "nbformat": 4,
  "nbformat_minor": 0,
  "metadata": {
    "colab": {
      "provenance": [],
      "authorship_tag": "ABX9TyOq4FnV8tn6folN4wYwxn/q",
      "include_colab_link": true
    },
    "kernelspec": {
      "name": "python3",
      "display_name": "Python 3"
    },
    "language_info": {
      "name": "python"
    }
  },
  "cells": [
    {
      "cell_type": "markdown",
      "metadata": {
        "id": "view-in-github",
        "colab_type": "text"
      },
      "source": [
        "<a href=\"https://colab.research.google.com/github/mnadeemsodha/Project-4-assignments/blob/main/PROJECTS_homework_projects_00_intro_python_06_square_number_md.ipynb\" target=\"_parent\"><img src=\"https://colab.research.google.com/assets/colab-badge.svg\" alt=\"Open In Colab\"/></a>"
      ]
    },
    {
      "cell_type": "code",
      "source": [
        "\n",
        "def main():\n",
        "    num: float = float(input(\"Type a number to see its square: \"))\n",
        "    print(str(num) + \" squared is \" + str(num ** 2))\n",
        "\n",
        "\n",
        "\n",
        "\n",
        "if __name__ == '__main__':\n",
        "    main()\n"
      ],
      "metadata": {
        "colab": {
          "base_uri": "https://localhost:8080/"
        },
        "id": "2z2NFLXJNVbC",
        "outputId": "e3924a4b-d8cc-4dc8-fe6d-6cc886453b11"
      },
      "execution_count": 2,
      "outputs": [
        {
          "output_type": "stream",
          "name": "stdout",
          "text": [
            "Type a number to see its square: 100\n",
            "100.0 squared is 10000.0\n"
          ]
        }
      ]
    }
  ]
}